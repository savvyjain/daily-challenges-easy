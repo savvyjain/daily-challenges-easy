{
 "cells": [
  {
   "cell_type": "code",
   "execution_count": 1,
   "metadata": {},
   "outputs": [
    {
     "name": "stdout",
     "output_type": "stream",
     "text": [
      "Enter your username : savvyjain\n",
      "How old are you?23\n",
      "Enter your name : Savvy\n",
      "your name is Savvy, you are 23 years old, and your username is savvyjain\n"
     ]
    }
   ],
   "source": [
    "username = input(\"Enter your username : \")\n",
    "age = input(\"How old are you?\")\n",
    "name = input(\"Enter your name : \")\n",
    "\n",
    "print(\"Your name is {}, you are {} years old, and your username is {}.\".format(name, age, username))\n",
    "\n"
   ]
  },
  {
   "cell_type": "code",
   "execution_count": null,
   "metadata": {},
   "outputs": [],
   "source": []
  }
 ],
 "metadata": {
  "kernelspec": {
   "display_name": "Python 3",
   "language": "python",
   "name": "python3"
  },
  "language_info": {
   "codemirror_mode": {
    "name": "ipython",
    "version": 3
   },
   "file_extension": ".py",
   "mimetype": "text/x-python",
   "name": "python",
   "nbconvert_exporter": "python",
   "pygments_lexer": "ipython3",
   "version": "3.5.2"
  }
 },
 "nbformat": 4,
 "nbformat_minor": 2
}
