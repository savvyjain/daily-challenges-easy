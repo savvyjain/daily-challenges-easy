{
  "nbformat": 4,
  "nbformat_minor": 0,
  "metadata": {
    "colab": {
      "name": "roman_arabic.ipynb",
      "version": "0.3.2",
      "provenance": [],
      "include_colab_link": true
    },
    "kernelspec": {
      "display_name": "Python 3",
      "language": "python",
      "name": "python3"
    }
  },
  "cells": [
    {
      "cell_type": "markdown",
      "metadata": {
        "id": "view-in-github",
        "colab_type": "text"
      },
      "source": [
        "[View in Colaboratory](https://colab.research.google.com/github/savvyjain/daily-challenges-easy/blob/master/roman_arabic.ipynb)"
      ]
    },
    {
      "metadata": {
        "id": "Zr1_HXnMim9S",
        "colab_type": "text"
      },
      "cell_type": "markdown",
      "source": [
        "## Challenge\n",
        "Write a program to convert to (and from) roman numerals. So your program should be able to take the input of 27 and return XXVII, and take MCMLXXXI and return 1981. And of course any other values. \n",
        "\n",
        "The program must work for all numbers between the upper bound of 4000 and the lower bound of 0 (both non-inclusive)\n"
      ]
    },
    {
      "metadata": {
        "id": "ynEwlVb8im9T",
        "colab_type": "code",
        "colab": {}
      },
      "cell_type": "code",
      "source": [
        "import pandas as pd"
      ],
      "execution_count": 0,
      "outputs": []
    },
    {
      "metadata": {
        "id": "yEq_PKifim9Z",
        "colab_type": "code",
        "colab": {}
      },
      "cell_type": "code",
      "source": [
        "symbol = [\"I\", \"V\", \"X\", \"L\", \"C\", \"D\", \"M\", \"V`\", \"X`\", 'L`', 'C`']\n",
        "value =  [1, 5, 10, 50, 100, 500, 1000, 5000, 10000, 50000, 100000, 500000]\n",
        "\n",
        "romans = {}\n",
        "for i in range(len(symbol)):\n",
        "    romans[value[i]] = symbol[i]\n",
        "\n",
        "ref_df = pd.DataFrame(list(zip(symbol, value)), columns=['Symbols', 'Values'])"
      ],
      "execution_count": 0,
      "outputs": []
    },
    {
      "metadata": {
        "id": "XLG3p8G4im9e",
        "colab_type": "code",
        "colab": {},
        "outputId": "4c898674-2f72-47ee-b756-bebad7f0e4de"
      },
      "cell_type": "code",
      "source": [
        "ref_df"
      ],
      "execution_count": 0,
      "outputs": [
        {
          "output_type": "execute_result",
          "data": {
            "text/html": [
              "<div>\n",
              "<style scoped>\n",
              "    .dataframe tbody tr th:only-of-type {\n",
              "        vertical-align: middle;\n",
              "    }\n",
              "\n",
              "    .dataframe tbody tr th {\n",
              "        vertical-align: top;\n",
              "    }\n",
              "\n",
              "    .dataframe thead th {\n",
              "        text-align: right;\n",
              "    }\n",
              "</style>\n",
              "<table border=\"1\" class=\"dataframe\">\n",
              "  <thead>\n",
              "    <tr style=\"text-align: right;\">\n",
              "      <th></th>\n",
              "      <th>Symbols</th>\n",
              "      <th>Values</th>\n",
              "    </tr>\n",
              "  </thead>\n",
              "  <tbody>\n",
              "    <tr>\n",
              "      <th>0</th>\n",
              "      <td>I</td>\n",
              "      <td>1</td>\n",
              "    </tr>\n",
              "    <tr>\n",
              "      <th>1</th>\n",
              "      <td>V</td>\n",
              "      <td>5</td>\n",
              "    </tr>\n",
              "    <tr>\n",
              "      <th>2</th>\n",
              "      <td>X</td>\n",
              "      <td>10</td>\n",
              "    </tr>\n",
              "    <tr>\n",
              "      <th>3</th>\n",
              "      <td>L</td>\n",
              "      <td>50</td>\n",
              "    </tr>\n",
              "    <tr>\n",
              "      <th>4</th>\n",
              "      <td>C</td>\n",
              "      <td>100</td>\n",
              "    </tr>\n",
              "    <tr>\n",
              "      <th>5</th>\n",
              "      <td>D</td>\n",
              "      <td>500</td>\n",
              "    </tr>\n",
              "    <tr>\n",
              "      <th>6</th>\n",
              "      <td>M</td>\n",
              "      <td>1000</td>\n",
              "    </tr>\n",
              "    <tr>\n",
              "      <th>7</th>\n",
              "      <td>V`</td>\n",
              "      <td>5000</td>\n",
              "    </tr>\n",
              "    <tr>\n",
              "      <th>8</th>\n",
              "      <td>X`</td>\n",
              "      <td>10000</td>\n",
              "    </tr>\n",
              "    <tr>\n",
              "      <th>9</th>\n",
              "      <td>L`</td>\n",
              "      <td>50000</td>\n",
              "    </tr>\n",
              "    <tr>\n",
              "      <th>10</th>\n",
              "      <td>C`</td>\n",
              "      <td>100000</td>\n",
              "    </tr>\n",
              "  </tbody>\n",
              "</table>\n",
              "</div>"
            ],
            "text/plain": [
              "   Symbols  Values\n",
              "0        I       1\n",
              "1        V       5\n",
              "2        X      10\n",
              "3        L      50\n",
              "4        C     100\n",
              "5        D     500\n",
              "6        M    1000\n",
              "7       V`    5000\n",
              "8       X`   10000\n",
              "9       L`   50000\n",
              "10      C`  100000"
            ]
          },
          "metadata": {
            "tags": []
          },
          "execution_count": 251
        }
      ]
    },
    {
      "metadata": {
        "id": "1azj7Sc-im9j",
        "colab_type": "code",
        "colab": {}
      },
      "cell_type": "code",
      "source": [
        "# Defining place values, to get the numeric potential of a number\n",
        "def get_place_value(number):\n",
        "    z =[]\n",
        "    \n",
        "    len_nn = len(nn)\n",
        "    for num in nn:\n",
        "        a = 0\n",
        "        a = str(num) + ('*'+ str(1) + '0'*(len_nn -1) )\n",
        "        z.append(a.split('*'))\n",
        "        len_nn -=1\n",
        "    return z\n",
        "\n",
        "# Calculating positions and number of occurances for each character of roman numeral\n",
        "def get_helper(place_value):\n",
        "    for lst in place_value:\n",
        "        for i in range(len(lst)):\n",
        "            lst[i] = int(lst[i])\n",
        "        val = int(lst[0])\n",
        "        k = 0\n",
        "        if val <= 3:\n",
        "            val = val\n",
        "        if val == 4:\n",
        "            val = -1\n",
        "            lst[1] = 5*lst[1]\n",
        "        if val == 9:\n",
        "            val = -1\n",
        "            lst[1] = lst[1]*10\n",
        "        if val == 5:\n",
        "            val == 0\n",
        "            lst[1] = 5*lst[1]\n",
        "        if val > 5 and val < 9:\n",
        "            val = val - 5\n",
        "            lst[1] = 5*lst[1]\n",
        "        lst.append(val)\n",
        "    return place_value"
      ],
      "execution_count": 0,
      "outputs": []
    },
    {
      "metadata": {
        "id": "QaPKjyWhim9m",
        "colab_type": "code",
        "colab": {}
      },
      "cell_type": "code",
      "source": [
        "# Checking for occurance of multiple of 5\n",
        "def check_5(romans, v1, v2):\n",
        "    if str(v1)[0]!='5':\n",
        "        a = v1/10\n",
        "        k = str(str(romans[a])*abs(v2) + romans[v1])\n",
        "    else:\n",
        "        a = v1/5\n",
        "        k = str(str(romans[a])*abs(v2) + romans[v1])\n",
        "    return k"
      ],
      "execution_count": 0,
      "outputs": []
    },
    {
      "metadata": {
        "id": "VMVwQWc6im9r",
        "colab_type": "code",
        "colab": {}
      },
      "cell_type": "code",
      "source": [
        "# Getting the roman counterpart of a given number\n",
        "def  get_roman(number):\n",
        "    final = []\n",
        "    for value in number:\n",
        "        k=0\n",
        "        if value[2]<0:\n",
        "            k = check_5(romans, value[1], value[2]) \n",
        "        if value[2]>0 and value[2]<4:\n",
        "            if str(value[1])[0]!='5': \n",
        "                k = str(romans[value[1]]*int(value[2]))\n",
        "            if str(value[1])[0]=='5':\n",
        "                a = value[1]//5\n",
        "                k = str(romans[value[1]]) + str(romans.get(a)*int(value[2]))\n",
        "        if value[2]==0:\n",
        "            k = ''\n",
        "        if value[2] == 5:\n",
        "            k = str(romans[value[1]])\n",
        "        final.append(k)\n",
        "    roman_num = ''.join(final)\n",
        "    return roman_num\n",
        "    \n"
      ],
      "execution_count": 0,
      "outputs": []
    },
    {
      "metadata": {
        "id": "tFpQrwe1im9u",
        "colab_type": "code",
        "colab": {},
        "outputId": "109abba3-6a58-4f7f-ab04-c7910df0749c"
      },
      "cell_type": "code",
      "source": [
        "# Decent number < 399999\n",
        "\n",
        "input_num = input(\"Write a decent number : \")\n",
        "if int(input_num) > 0 and int(input_num) < 399999:\n",
        "    nn = [int(i) for i in str(input_num)]\n",
        "    place_value = get_place_value(nn)\n",
        "    number = get_helper(place_value)\n",
        "    roman_number = get_roman(number)\n",
        "    print(roman_number)\n",
        "else: \n",
        "    print(\"I asked you to enter a decent number. Now rerun with a decent number\")\n"
      ],
      "execution_count": 0,
      "outputs": [
        {
          "output_type": "stream",
          "text": [
            "Write a decent number : 93\n",
            "XCIII\n"
          ],
          "name": "stdout"
        }
      ]
    },
    {
      "metadata": {
        "id": "xsaNncyuim9z",
        "colab_type": "code",
        "colab": {}
      },
      "cell_type": "code",
      "source": [
        ""
      ],
      "execution_count": 0,
      "outputs": []
    }
  ]
}