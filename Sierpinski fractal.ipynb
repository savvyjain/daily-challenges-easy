{
 "cells": [
  {
   "cell_type": "markdown",
   "metadata": {},
   "source": [
    "## Its a Fractal Thingy\n",
    "- Plot random 4 coordinates\n",
    "- Assign 0 to initial point, then A, B, C\n",
    "- random iteration of dice rolling {1,2,3,4,5,6}\n",
    "- Halfway to A(1,2) , Halfway to B(3,4), Halfway to C(5,6)\n",
    "- Repeat for all dice rolls for 2500 iterations (plot fo revery 50th iteration)"
   ]
  },
  {
   "cell_type": "code",
   "execution_count": 1,
   "metadata": {},
   "outputs": [],
   "source": [
    "import matplotlib.pyplot as plt \n",
    "import matplotlib.animation as animation \n",
    "import numpy as np\n",
    "import random\n",
    "import math"
   ]
  },
  {
   "cell_type": "code",
   "execution_count": null,
   "metadata": {},
   "outputs": [],
   "source": []
  },
  {
   "cell_type": "code",
   "execution_count": 2,
   "metadata": {},
   "outputs": [
    {
     "name": "stdout",
     "output_type": "stream",
     "text": [
      "[2, 18] [6, 18] [15, 1] [9, 1]\n"
     ]
    }
   ],
   "source": [
    "# Coordinate assignment\n",
    "coords = [[random.randint(0,20), random.randint(0,20)] for _ in range(4)]\n",
    "start = coords[0]\n",
    "A = coords[1]\n",
    "B = coords[2]\n",
    "C = coords[3]\n",
    "print(start, A, B, C)"
   ]
  },
  {
   "cell_type": "code",
   "execution_count": 17,
   "metadata": {},
   "outputs": [
    {
     "data": {
      "text/plain": [
       "<matplotlib.collections.PathCollection at 0x7faa37c19d68>"
      ]
     },
     "execution_count": 17,
     "metadata": {},
     "output_type": "execute_result"
    },
    {
     "data": {
      "image/png": "[encoded data removed]",
      "text/plain": [
       "<matplotlib.figure.Figure at 0x7faa39cf00b8>"
      ]
     },
     "metadata": {},
     "output_type": "display_data"
    }
   ],
   "source": [
    "plt.scatter(*zip(*coords))"
   ]
  },
  {
   "cell_type": "code",
   "execution_count": 9,
   "metadata": {},
   "outputs": [],
   "source": [
    "def calcNewPoint(a,b):\n",
    "#     Calculate change \n",
    "#     print(a[0], type(b[0]))\n",
    "    delx = b[0] - a[0]\n",
    "    dely = b[1] - a[1]\n",
    "#     Calculate angle of inclination\n",
    "    theta = math.atan(dely/delx)\n",
    "#     Calculate distance between start and end\n",
    "    dist = math.sqrt((b[0] - a[0])**2 + (b[1] - a[1])**2)/2\n",
    "    c = []\n",
    "#     print(math.cos(theta), math.sin(theta))\n",
    "    c.append(a[0] + dist*math.cos(theta))\n",
    "    c.append(a[1] + dist*math.sin(theta))\n",
    "#     print(delx, dely, a, c, b, dist, theta )\n",
    "#     plt.scatter(*zip(a,b, c))\n",
    "    return c"
   ]
  },
  {
   "cell_type": "code",
   "execution_count": 10,
   "metadata": {},
   "outputs": [],
   "source": [
    "# a = calcNewPoint( [0,0],[2,2])\n",
    "# a"
   ]
  },
  {
   "cell_type": "code",
   "execution_count": 35,
   "metadata": {},
   "outputs": [],
   "source": [
    "def magicTriangle(start, A, B, C, n):\n",
    "    dicerolls = [random.randint(1,6) for _ in range(n)]\n",
    "    print(dicerolls)\n",
    "    points = []\n",
    "    print(start, A, B, C, n)\n",
    "    if dicerolls[0] in [1,2]:\n",
    "        np = calcNewPoint(start, A)\n",
    "    elif dicerolls[0] in [3,4]:\n",
    "        np = calcNewPoint(start, B)       \n",
    "    elif dicerolls[0] in [5,6]:\n",
    "        np = calcNewPoint(start, C)\n",
    "    print(np)\n",
    "    points.append(np)\n",
    "        \n",
    "    for _ in dicerolls[1:]:\n",
    "        if _ in [1,2]:\n",
    "            ip = calcNewPoint(np, A)\n",
    "        elif _ in [3,4]:\n",
    "            ip = calcNewPoint(np, B)       \n",
    "        elif _ in [5,6]:\n",
    "            ip = calcNewPoint(np, C)\n",
    "        print(ip)\n",
    "        points.append(ip)\n",
    "        np = ip.copy()\n",
    "        \n",
    "        \n",
    "    \n",
    "    return points\n",
    "    "
   ]
  },
  {
   "cell_type": "code",
   "execution_count": 41,
   "metadata": {},
   "outputs": [
    {
     "name": "stdout",
     "output_type": "stream",
     "text": [
      "[5, 2, 4, 5, 1]\n",
      "[2, 18] [6, 18] [15, 1] [9, 1] 5\n",
      "[5.5, 9.5]\n",
      "[5.75, 13.75]\n",
      "[10.375, 7.375]\n",
      "[11.0625, 10.5625]\n",
      "[13.59375, 6.84375]\n"
     ]
    }
   ],
   "source": [
    "# print(type(start[0]), A, B, C, 25)\n",
    "points = magicTriangle(start, A, B, C, 5)"
   ]
  },
  {
   "cell_type": "code",
   "execution_count": 40,
   "metadata": {},
   "outputs": [
    {
     "data": {
      "text/plain": [
       "<matplotlib.collections.PathCollection at 0x7faa37ad29e8>"
      ]
     },
     "execution_count": 40,
     "metadata": {},
     "output_type": "execute_result"
    },
    {
     "data": {
      "image/png": "[encoded data removed]",
      "text/plain": [
       "<matplotlib.figure.Figure at 0x7faa37b05710>"
      ]
     },
     "metadata": {},
     "output_type": "display_data"
    }
   ],
   "source": [
    "plt.scatter(*zip(*points))"
   ]
  },
  {
   "cell_type": "code",
   "execution_count": null,
   "metadata": {},
   "outputs": [],
   "source": []
  }
 ],
 "metadata": {
  "kernelspec": {
   "display_name": "Python 3",
   "language": "python",
   "name": "python3"
  },
  "language_info": {
   "codemirror_mode": {
    "name": "ipython",
    "version": 3
   },
   "file_extension": ".py",
   "mimetype": "text/x-python",
   "name": "python",
   "nbconvert_exporter": "python",
   "pygments_lexer": "ipython3",
   "version": "3.5.2"
  }
 },
 "nbformat": 4,
 "nbformat_minor": 2
}
